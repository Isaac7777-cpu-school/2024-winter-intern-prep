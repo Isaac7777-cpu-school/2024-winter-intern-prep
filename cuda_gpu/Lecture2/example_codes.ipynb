{
  "cells": [
    {
      "cell_type": "markdown",
      "metadata": {
        "id": "6E4o02_CK708"
      },
      "source": [
        "# Lecture 2\n",
        "\n",
        "Basic GPU programming"
      ]
    },
    {
      "cell_type": "code",
      "execution_count": null,
      "metadata": {
        "id": "BeQUgOVJK70-",
        "outputId": "0b3fd94e-6d12-42d3-d6a0-e6e16c766cdf"
      },
      "outputs": [
        {
          "name": "stdout",
          "output_type": "stream",
          "text": [
            "Hello\n"
          ]
        }
      ],
      "source": [
        "print('Hello')"
      ]
    },
    {
      "cell_type": "code",
      "source": [
        "# Step 1: Write CUDA code to a .cu file\n",
        "%%writefile vector_add.cu\n",
        "\n",
        "#include <cuda_runtime.h>\n",
        "#include <stdio.h>\n",
        "\n",
        "__global__ void vector_add(float *a, float *b, float *c, int n) {\n",
        "    int i = threadIdx.x + blockIdx.x * blockDim.x;\n",
        "    if (i < n) c[i] = a[i] + b[i];\n",
        "}\n",
        "\n",
        "int main() {\n",
        "    int N = 1024;\n",
        "    float *a, *b, *c;\n",
        "    float *d_a, *d_b, *d_c;\n",
        "    int size = N * sizeof(float);\n",
        "\n",
        "    // Allocate host memory\n",
        "    a = (float*)malloc(size);\n",
        "    b = (float*)malloc(size);\n",
        "    c = (float*)malloc(size);\n",
        "\n",
        "    // Initialize host arrays\n",
        "    for (int i = 0; i < N; i++) a[i] = b[i] = 1.0f;\n",
        "\n",
        "    // Allocate device memory\n",
        "    cudaMalloc((void**)&d_a, size);\n",
        "    cudaMalloc((void**)&d_b, size);\n",
        "    cudaMalloc((void**)&d_c, size);\n",
        "\n",
        "    // Copy data to device\n",
        "    cudaMemcpy(d_a, a, size, cudaMemcpyHostToDevice);\n",
        "    cudaMemcpy(d_b, b, size, cudaMemcpyHostToDevice);\n",
        "\n",
        "    // Launch kernel\n",
        "    vector_add<<<(N + 255) / 256, 256>>>(d_a, d_b, d_c, N);\n",
        "\n",
        "    // Copy result back to host\n",
        "    cudaMemcpy(c, d_c, size, cudaMemcpyDeviceToHost);\n",
        "\n",
        "    // Print result\n",
        "    for (int i = 0; i < 10; i++) printf(\"%f \", c[i]);\n",
        "    printf(\"\\n\");\n",
        "\n",
        "    // Free memory\n",
        "    cudaFree(d_a); cudaFree(d_b); cudaFree(d_c);\n",
        "    free(a); free(b); free(c);\n",
        "\n",
        "    return 0;\n",
        "}"
      ],
      "metadata": {
        "id": "JrSYflwoVNIz",
        "outputId": "bccdfdf9-1747-4fbc-e471-4a41e1b7461c",
        "colab": {
          "base_uri": "https://localhost:8080/"
        }
      },
      "execution_count": 1,
      "outputs": [
        {
          "output_type": "stream",
          "name": "stdout",
          "text": [
            "Writing vector_add.cu\n"
          ]
        }
      ]
    },
    {
      "cell_type": "code",
      "source": [
        "# Step 2: Compile the CUDA code\n",
        "!nvcc -o vector_add vector_add.cu"
      ],
      "metadata": {
        "id": "BaUrRR7bVQiL"
      },
      "execution_count": 2,
      "outputs": []
    },
    {
      "cell_type": "code",
      "source": [
        "# Step 3: Run the compiled program\n",
        "!./vector_add"
      ],
      "metadata": {
        "id": "7bVC6oIHVStp",
        "outputId": "3d7eade6-b474-4a87-e522-714ae8d6554a",
        "colab": {
          "base_uri": "https://localhost:8080/"
        }
      },
      "execution_count": 3,
      "outputs": [
        {
          "output_type": "stream",
          "name": "stdout",
          "text": [
            "2.000000 2.000000 2.000000 2.000000 2.000000 2.000000 2.000000 2.000000 2.000000 2.000000 \n"
          ]
        }
      ]
    },
    {
      "cell_type": "code",
      "source": [],
      "metadata": {
        "id": "EaMu5qHmVltT"
      },
      "execution_count": null,
      "outputs": []
    }
  ],
  "metadata": {
    "kernelspec": {
      "display_name": "Python 3",
      "name": "python3"
    },
    "language_info": {
      "codemirror_mode": {
        "name": "ipython",
        "version": 3
      },
      "file_extension": ".py",
      "mimetype": "text/x-python",
      "name": "python",
      "nbconvert_exporter": "python",
      "pygments_lexer": "ipython3",
      "version": "3.10.15"
    },
    "colab": {
      "provenance": [],
      "gpuType": "T4"
    },
    "accelerator": "GPU"
  },
  "nbformat": 4,
  "nbformat_minor": 0
}